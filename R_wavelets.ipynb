{
 "cells": [
  {
   "cell_type": "markdown",
   "metadata": {},
   "source": [
    "# R wavelets\n",
    "\n",
    "[Read how to get R installed in a conda environment.](https://www.continuum.io/blog/developer/jupyter-and-conda-r)"
   ]
  },
  {
   "cell_type": "code",
   "execution_count": 1,
   "metadata": {
    "collapsed": true
   },
   "outputs": [],
   "source": [
    "genrick <- function(duration, dt, f) {\n",
    "    # RICKER WAVELET GENERATOR\n",
    "    # Written by Leonard Lisapaly (leonardl@fisika.ui.ac.id)\n",
    "    # Converted to R by J Lees, 2004\n",
    "    #\n",
    "    # INPUTS\n",
    "    # freq = wavelet dominant frequency [Hz]\n",
    "    # dt   = sampling interval [sec]\n",
    "    # nw   = duration of wavelet [sec]\n",
    "    nw = duration / dt\n",
    "    a  = f * sqrt(pi) / 2\n",
    "    nc = (nw + 1) / 2\n",
    "    tc = (nc - 1) * dt\n",
    "    t  = seq(from=0, length=nw-1) * dt\n",
    "    b  = pi * f * (t - tc)\n",
    "    w  = a * (1 - 2*b^2) * exp(-b^2)\n",
    "    return(w)\n",
    "}"
   ]
  },
  {
   "cell_type": "code",
   "execution_count": 2,
   "metadata": {
    "collapsed": false
   },
   "outputs": [],
   "source": [
    "imp <- matrix(rep(1, len=51), nrow = 51) * 2550 * 2650\n",
    "\n",
    "# Impedance, imp: VP    RHO\n",
    "imp[c(10:15),] =  2700 * 2750\n",
    "imp[c(15:27),] =  2400 * 2450\n",
    "imp[c(27:35),] =  2800 * 3000"
   ]
  },
  {
   "cell_type": "code",
   "execution_count": 3,
   "metadata": {
    "collapsed": false
   },
   "outputs": [],
   "source": [
    "wavelet <- genrick(0.040, 0.001, 100)"
   ]
  },
  {
   "cell_type": "code",
   "execution_count": 4,
   "metadata": {
    "collapsed": false
   },
   "outputs": [
    {
     "data": {
      "image/png": "[encoded data removed]",
      "text/plain": [
       "plot without title"
      ]
     },
     "metadata": {},
     "output_type": "display_data"
    }
   ],
   "source": [
    "matplot(wavelet)"
   ]
  },
  {
   "cell_type": "code",
   "execution_count": 5,
   "metadata": {
    "collapsed": false
   },
   "outputs": [],
   "source": [
    "# Python equivalents\n",
    "#          imp[1:]         imp[:-1]          imp[1:]          imp[:-1]\n",
    "m <- (tail(imp, -1) - head(imp, -1)) /  (tail(imp, -1) + head(imp, -1))"
   ]
  },
  {
   "cell_type": "code",
   "execution_count": 6,
   "metadata": {
    "collapsed": false
   },
   "outputs": [
    {
     "data": {
      "text/html": [
       "<table>\n",
       "<tbody>\n",
       "\t<tr><td> 1</td><td>-1</td><td> 0</td><td> 0</td><td> 0</td><td> 0</td></tr>\n",
       "\t<tr><td>-1</td><td> 1</td><td>-1</td><td> 0</td><td> 0</td><td> 0</td></tr>\n",
       "\t<tr><td> 0</td><td>-1</td><td> 1</td><td>-1</td><td> 0</td><td> 0</td></tr>\n",
       "\t<tr><td> 0</td><td> 0</td><td>-1</td><td> 1</td><td>-1</td><td> 0</td></tr>\n",
       "\t<tr><td> 0</td><td> 0</td><td> 0</td><td>-1</td><td> 1</td><td>-1</td></tr>\n",
       "</tbody>\n",
       "</table>\n"
      ],
      "text/latex": [
       "\\begin{tabular}{llllll}\n",
       "\t  1 & -1 &  0 &  0 &  0 &  0\\\\\n",
       "\t -1 &  1 & -1 &  0 &  0 &  0\\\\\n",
       "\t  0 & -1 &  1 & -1 &  0 &  0\\\\\n",
       "\t  0 &  0 & -1 &  1 & -1 &  0\\\\\n",
       "\t  0 &  0 &  0 & -1 &  1 & -1\\\\\n",
       "\\end{tabular}\n"
      ],
      "text/markdown": [
       "1. 1\n",
       "2. -1\n",
       "3. 0\n",
       "4. 0\n",
       "5. 0\n",
       "6. -1\n",
       "7. 1\n",
       "8. -1\n",
       "9. 0\n",
       "10. 0\n",
       "11. 0\n",
       "12. -1\n",
       "13. 1\n",
       "14. -1\n",
       "15. 0\n",
       "16. 0\n",
       "17. 0\n",
       "18. -1\n",
       "19. 1\n",
       "20. -1\n",
       "21. 0\n",
       "22. 0\n",
       "23. 0\n",
       "24. -1\n",
       "25. 1\n",
       "26. 0\n",
       "27. 0\n",
       "28. 0\n",
       "29. 0\n",
       "30. -1\n",
       "\n",
       "\n"
      ],
      "text/plain": [
       "     [,1] [,2] [,3] [,4] [,5] [,6]\n",
       "[1,]    1   -1    0    0    0    0\n",
       "[2,]   -1    1   -1    0    0    0\n",
       "[3,]    0   -1    1   -1    0    0\n",
       "[4,]    0    0   -1    1   -1    0\n",
       "[5,]    0    0    0   -1    1   -1"
      ]
     },
     "metadata": {},
     "output_type": "display_data"
    }
   ],
   "source": [
    "x <- c(1, -1, 0, 0, 0, 0)\n",
    "head(toeplitz(x), -1)"
   ]
  },
  {
   "cell_type": "code",
   "execution_count": null,
   "metadata": {
    "collapsed": true
   },
   "outputs": [],
   "source": [
    "convmtx <- function(h, n) {\n",
    "    col_1 = np.r_[h[0], np.zeros(n-1)]\n",
    "    row_1 = np.r_[h, np.zeros(n-1)]\n",
    "    return toeplitz(col_1, row_1)\n",
    "}"
   ]
  },
  {
   "cell_type": "code",
   "execution_count": 44,
   "metadata": {
    "collapsed": false
   },
   "outputs": [
    {
     "data": {
      "text/html": [
       "<ol class=list-inline>\n",
       "\t<li>1</li>\n",
       "\t<li>2</li>\n",
       "</ol>\n"
      ],
      "text/latex": [
       "\\begin{enumerate*}\n",
       "\\item 1\n",
       "\\item 2\n",
       "\\end{enumerate*}\n"
      ],
      "text/markdown": [
       "1. 1\n",
       "2. 2\n",
       "\n",
       "\n"
      ],
      "text/plain": [
       "[1] 1 2"
      ]
     },
     "execution_count": 44,
     "metadata": {},
     "output_type": "execute_result"
    }
   ],
   "source": [
    "# Or...\n",
    "solve(A, b)"
   ]
  },
  {
   "cell_type": "code",
   "execution_count": 43,
   "metadata": {
    "collapsed": false
   },
   "outputs": [
    {
     "data": {
      "text/html": [
       "<table>\n",
       "<tbody>\n",
       "\t<tr><td>0</td></tr>\n",
       "\t<tr><td>0</td></tr>\n",
       "</tbody>\n",
       "</table>\n"
      ],
      "text/latex": [
       "\\begin{tabular}{l}\n",
       "\t 0\\\\\n",
       "\t 0\\\\\n",
       "\\end{tabular}\n"
      ],
      "text/markdown": [
       "1. 0\n",
       "2. 0\n",
       "\n",
       "\n"
      ],
      "text/plain": [
       "     [,1]\n",
       "[1,]    0\n",
       "[2,]    0"
      ]
     },
     "execution_count": 43,
     "metadata": {},
     "output_type": "execute_result"
    }
   ],
   "source": [
    "A %*% x - b"
   ]
  },
  {
   "cell_type": "markdown",
   "metadata": {},
   "source": [
    "## Another example\n",
    "\n",
    "http://www.r-bloggers.com/dont-invert-that-matrix-why-and-how/"
   ]
  },
  {
   "cell_type": "code",
   "execution_count": null,
   "metadata": {
    "collapsed": true
   },
   "outputs": [],
   "source": []
  }
 ],
 "metadata": {
  "kernelspec": {
   "display_name": "R",
   "language": "R",
   "name": "ir"
  },
  "language_info": {
   "codemirror_mode": "r",
   "file_extension": ".r",
   "mimetype": "text/x-r-source",
   "name": "R",
   "pygments_lexer": "r",
   "version": "3.3.1"
  }
 },
 "nbformat": 4,
 "nbformat_minor": 0
}
